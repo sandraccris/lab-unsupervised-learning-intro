{
 "cells": [
  {
   "cell_type": "markdown",
   "id": "d4ea75c6",
   "metadata": {},
   "source": [
    "# Lab | Unsupervised learning intro  - K-Means Clustering\n",
    "\n",
    "\n",
    "t's the moment to perform clustering on the songs you collected. Remember that the ultimate goal of this little project is to improve the recommendations of artists. Clustering the songs will allow the recommendation system to limit the scope of the recommendations to only songs that belong to the same cluster - songs with similar audio features.\n",
    "\n",
    "The experiments you did with the Spotify API and the Billboard web scraping will allow you to create a pipeline such that when the user enters a song, you:\n",
    "\n",
    "1. Check whether or not the song is in the Billboard Hot 200.\n",
    "\n",
    "2. Collect the audio features from the Spotify API.\n",
    "\n",
    "\n",
    "After that, you want to send the Spotify audio features of the submitted song to the clustering model, which should return a cluster number.\n"
   ]
  },
  {
   "cell_type": "code",
   "execution_count": 1,
   "id": "67fe3310",
   "metadata": {},
   "outputs": [],
   "source": [
    "import pandas as pd\n",
    "import matplotlib.pyplot as plt \n",
    "import numpy as np\n",
    "\n",
    "from bs4 import BeautifulSoup\n",
    "import spotipy\n",
    "from spotipy.oauth2 import SpotifyClientCredentials\n",
    "\n",
    "from sklearn.preprocessing import StandardScaler\n",
    "\n",
    "\n",
    "from sklearn.cluster import KMeans\n",
    "from yellowbrick.cluster import KElbowVisualizer\n",
    "from sklearn.metrics import silhouette_score\n",
    "from yellowbrick.cluster import SilhouetteVisualizer\n",
    "from sklearn.metrics import pairwise_distances_argmin_min\n",
    "\n",
    "import random as r\n",
    "\n",
    "import warnings\n",
    "warnings.filterwarnings('ignore')"
   ]
  },
  {
   "cell_type": "code",
   "execution_count": 2,
   "id": "455662a8",
   "metadata": {
    "scrolled": true
   },
   "outputs": [
    {
     "data": {
      "text/html": [
       "<div>\n",
       "<style scoped>\n",
       "    .dataframe tbody tr th:only-of-type {\n",
       "        vertical-align: middle;\n",
       "    }\n",
       "\n",
       "    .dataframe tbody tr th {\n",
       "        vertical-align: top;\n",
       "    }\n",
       "\n",
       "    .dataframe thead th {\n",
       "        text-align: right;\n",
       "    }\n",
       "</style>\n",
       "<table border=\"1\" class=\"dataframe\">\n",
       "  <thead>\n",
       "    <tr style=\"text-align: right;\">\n",
       "      <th></th>\n",
       "      <th>artist</th>\n",
       "      <th>song</th>\n",
       "    </tr>\n",
       "  </thead>\n",
       "  <tbody>\n",
       "    <tr>\n",
       "      <th>0</th>\n",
       "      <td>Morgan Wallen</td>\n",
       "      <td>last night</td>\n",
       "    </tr>\n",
       "    <tr>\n",
       "      <th>1</th>\n",
       "      <td>Luke Combs</td>\n",
       "      <td>fast car</td>\n",
       "    </tr>\n",
       "    <tr>\n",
       "      <th>2</th>\n",
       "      <td>Rema &amp; Selena Gomez</td>\n",
       "      <td>calm down</td>\n",
       "    </tr>\n",
       "    <tr>\n",
       "      <th>3</th>\n",
       "      <td>Miley Cyrus</td>\n",
       "      <td>flowers</td>\n",
       "    </tr>\n",
       "    <tr>\n",
       "      <th>4</th>\n",
       "      <td>Lil Durk Featuring J. Cole</td>\n",
       "      <td>all my life</td>\n",
       "    </tr>\n",
       "  </tbody>\n",
       "</table>\n",
       "</div>"
      ],
      "text/plain": [
       "                       artist         song\n",
       "0               Morgan Wallen   last night\n",
       "1                  Luke Combs     fast car\n",
       "2         Rema & Selena Gomez    calm down\n",
       "3                 Miley Cyrus      flowers\n",
       "4  Lil Durk Featuring J. Cole  all my life"
      ]
     },
     "execution_count": 2,
     "metadata": {},
     "output_type": "execute_result"
    }
   ],
   "source": [
    "# Loading csv file with web scraped data of popular songs (Billboard Hot 100 playlist and RollingStone The 100 Best Songs of 2022 playlist)\n",
    "\n",
    "top_songs=pd.read_csv(\"top_songs.csv\", index_col=0)\n",
    "top_songs.head()"
   ]
  },
  {
   "cell_type": "code",
   "execution_count": 9,
   "id": "478d8129",
   "metadata": {},
   "outputs": [
    {
     "data": {
      "text/plain": [
       "(200, 2)"
      ]
     },
     "execution_count": 9,
     "metadata": {},
     "output_type": "execute_result"
    }
   ],
   "source": [
    "top_songs.shape"
   ]
  },
  {
   "cell_type": "code",
   "execution_count": 3,
   "id": "3668e9b0",
   "metadata": {},
   "outputs": [
    {
     "data": {
      "text/html": [
       "<div>\n",
       "<style scoped>\n",
       "    .dataframe tbody tr th:only-of-type {\n",
       "        vertical-align: middle;\n",
       "    }\n",
       "\n",
       "    .dataframe tbody tr th {\n",
       "        vertical-align: top;\n",
       "    }\n",
       "\n",
       "    .dataframe thead th {\n",
       "        text-align: right;\n",
       "    }\n",
       "</style>\n",
       "<table border=\"1\" class=\"dataframe\">\n",
       "  <thead>\n",
       "    <tr style=\"text-align: right;\">\n",
       "      <th></th>\n",
       "      <th>Unnamed: 0</th>\n",
       "      <th>danceability</th>\n",
       "      <th>energy</th>\n",
       "      <th>key</th>\n",
       "      <th>loudness</th>\n",
       "      <th>mode</th>\n",
       "      <th>speechiness</th>\n",
       "      <th>acousticness</th>\n",
       "      <th>instrumentalness</th>\n",
       "      <th>liveness</th>\n",
       "      <th>...</th>\n",
       "      <th>type</th>\n",
       "      <th>id</th>\n",
       "      <th>uri</th>\n",
       "      <th>track_href</th>\n",
       "      <th>analysis_url</th>\n",
       "      <th>duration_ms</th>\n",
       "      <th>time_signature</th>\n",
       "      <th>song_title</th>\n",
       "      <th>songs_id</th>\n",
       "      <th>artist</th>\n",
       "    </tr>\n",
       "  </thead>\n",
       "  <tbody>\n",
       "    <tr>\n",
       "      <th>0</th>\n",
       "      <td>0</td>\n",
       "      <td>0.514</td>\n",
       "      <td>0.730</td>\n",
       "      <td>1</td>\n",
       "      <td>-5.934</td>\n",
       "      <td>1</td>\n",
       "      <td>0.0598</td>\n",
       "      <td>0.00146</td>\n",
       "      <td>0.000095</td>\n",
       "      <td>0.0897</td>\n",
       "      <td>...</td>\n",
       "      <td>audio_features</td>\n",
       "      <td>0VjIjW4GlUZAMYd2vXMi3b</td>\n",
       "      <td>spotify:track:0VjIjW4GlUZAMYd2vXMi3b</td>\n",
       "      <td>https://api.spotify.com/v1/tracks/0VjIjW4GlUZA...</td>\n",
       "      <td>https://api.spotify.com/v1/audio-analysis/0VjI...</td>\n",
       "      <td>200040</td>\n",
       "      <td>4</td>\n",
       "      <td>Blinding Lights</td>\n",
       "      <td>0VjIjW4GlUZAMYd2vXMi3b</td>\n",
       "      <td>The Weeknd</td>\n",
       "    </tr>\n",
       "    <tr>\n",
       "      <th>1</th>\n",
       "      <td>1</td>\n",
       "      <td>0.825</td>\n",
       "      <td>0.652</td>\n",
       "      <td>1</td>\n",
       "      <td>-3.183</td>\n",
       "      <td>0</td>\n",
       "      <td>0.0802</td>\n",
       "      <td>0.58100</td>\n",
       "      <td>0.000000</td>\n",
       "      <td>0.0931</td>\n",
       "      <td>...</td>\n",
       "      <td>audio_features</td>\n",
       "      <td>7qiZfU4dY1lWllzX7mPBI3</td>\n",
       "      <td>spotify:track:7qiZfU4dY1lWllzX7mPBI3</td>\n",
       "      <td>https://api.spotify.com/v1/tracks/7qiZfU4dY1lW...</td>\n",
       "      <td>https://api.spotify.com/v1/audio-analysis/7qiZ...</td>\n",
       "      <td>233713</td>\n",
       "      <td>4</td>\n",
       "      <td>Shape of You</td>\n",
       "      <td>7qiZfU4dY1lWllzX7mPBI3</td>\n",
       "      <td>Ed Sheeran</td>\n",
       "    </tr>\n",
       "    <tr>\n",
       "      <th>2</th>\n",
       "      <td>2</td>\n",
       "      <td>0.824</td>\n",
       "      <td>0.588</td>\n",
       "      <td>6</td>\n",
       "      <td>-6.400</td>\n",
       "      <td>0</td>\n",
       "      <td>0.0924</td>\n",
       "      <td>0.69200</td>\n",
       "      <td>0.000104</td>\n",
       "      <td>0.1490</td>\n",
       "      <td>...</td>\n",
       "      <td>audio_features</td>\n",
       "      <td>2XU0oxnq2qxCpomAAuJY8K</td>\n",
       "      <td>spotify:track:2XU0oxnq2qxCpomAAuJY8K</td>\n",
       "      <td>https://api.spotify.com/v1/tracks/2XU0oxnq2qxC...</td>\n",
       "      <td>https://api.spotify.com/v1/audio-analysis/2XU0...</td>\n",
       "      <td>209438</td>\n",
       "      <td>4</td>\n",
       "      <td>Dance Monkey</td>\n",
       "      <td>2XU0oxnq2qxCpomAAuJY8K</td>\n",
       "      <td>Tones And I</td>\n",
       "    </tr>\n",
       "    <tr>\n",
       "      <th>3</th>\n",
       "      <td>3</td>\n",
       "      <td>0.501</td>\n",
       "      <td>0.405</td>\n",
       "      <td>1</td>\n",
       "      <td>-5.679</td>\n",
       "      <td>1</td>\n",
       "      <td>0.0319</td>\n",
       "      <td>0.75100</td>\n",
       "      <td>0.000000</td>\n",
       "      <td>0.1050</td>\n",
       "      <td>...</td>\n",
       "      <td>audio_features</td>\n",
       "      <td>7qEHsqek33rTcFNT9PFqLf</td>\n",
       "      <td>spotify:track:7qEHsqek33rTcFNT9PFqLf</td>\n",
       "      <td>https://api.spotify.com/v1/tracks/7qEHsqek33rT...</td>\n",
       "      <td>https://api.spotify.com/v1/audio-analysis/7qEH...</td>\n",
       "      <td>182161</td>\n",
       "      <td>4</td>\n",
       "      <td>Someone You Loved</td>\n",
       "      <td>7qEHsqek33rTcFNT9PFqLf</td>\n",
       "      <td>Lewis Capaldi</td>\n",
       "    </tr>\n",
       "    <tr>\n",
       "      <th>4</th>\n",
       "      <td>4</td>\n",
       "      <td>0.760</td>\n",
       "      <td>0.479</td>\n",
       "      <td>2</td>\n",
       "      <td>-5.574</td>\n",
       "      <td>1</td>\n",
       "      <td>0.0466</td>\n",
       "      <td>0.55600</td>\n",
       "      <td>0.000000</td>\n",
       "      <td>0.0703</td>\n",
       "      <td>...</td>\n",
       "      <td>audio_features</td>\n",
       "      <td>3KkXRkHbMCARz0aVfEt68P</td>\n",
       "      <td>spotify:track:3KkXRkHbMCARz0aVfEt68P</td>\n",
       "      <td>https://api.spotify.com/v1/tracks/3KkXRkHbMCAR...</td>\n",
       "      <td>https://api.spotify.com/v1/audio-analysis/3KkX...</td>\n",
       "      <td>158040</td>\n",
       "      <td>4</td>\n",
       "      <td>Sunflower - Spider-Man: Into the Spider-Verse</td>\n",
       "      <td>3KkXRkHbMCARz0aVfEt68P</td>\n",
       "      <td>Post Malone</td>\n",
       "    </tr>\n",
       "  </tbody>\n",
       "</table>\n",
       "<p>5 rows × 22 columns</p>\n",
       "</div>"
      ],
      "text/plain": [
       "   Unnamed: 0  danceability  energy  key  loudness  mode  speechiness  \\\n",
       "0           0         0.514   0.730    1    -5.934     1       0.0598   \n",
       "1           1         0.825   0.652    1    -3.183     0       0.0802   \n",
       "2           2         0.824   0.588    6    -6.400     0       0.0924   \n",
       "3           3         0.501   0.405    1    -5.679     1       0.0319   \n",
       "4           4         0.760   0.479    2    -5.574     1       0.0466   \n",
       "\n",
       "   acousticness  instrumentalness  liveness  ...            type  \\\n",
       "0       0.00146          0.000095    0.0897  ...  audio_features   \n",
       "1       0.58100          0.000000    0.0931  ...  audio_features   \n",
       "2       0.69200          0.000104    0.1490  ...  audio_features   \n",
       "3       0.75100          0.000000    0.1050  ...  audio_features   \n",
       "4       0.55600          0.000000    0.0703  ...  audio_features   \n",
       "\n",
       "                       id                                   uri  \\\n",
       "0  0VjIjW4GlUZAMYd2vXMi3b  spotify:track:0VjIjW4GlUZAMYd2vXMi3b   \n",
       "1  7qiZfU4dY1lWllzX7mPBI3  spotify:track:7qiZfU4dY1lWllzX7mPBI3   \n",
       "2  2XU0oxnq2qxCpomAAuJY8K  spotify:track:2XU0oxnq2qxCpomAAuJY8K   \n",
       "3  7qEHsqek33rTcFNT9PFqLf  spotify:track:7qEHsqek33rTcFNT9PFqLf   \n",
       "4  3KkXRkHbMCARz0aVfEt68P  spotify:track:3KkXRkHbMCARz0aVfEt68P   \n",
       "\n",
       "                                          track_href  \\\n",
       "0  https://api.spotify.com/v1/tracks/0VjIjW4GlUZA...   \n",
       "1  https://api.spotify.com/v1/tracks/7qiZfU4dY1lW...   \n",
       "2  https://api.spotify.com/v1/tracks/2XU0oxnq2qxC...   \n",
       "3  https://api.spotify.com/v1/tracks/7qEHsqek33rT...   \n",
       "4  https://api.spotify.com/v1/tracks/3KkXRkHbMCAR...   \n",
       "\n",
       "                                        analysis_url duration_ms  \\\n",
       "0  https://api.spotify.com/v1/audio-analysis/0VjI...      200040   \n",
       "1  https://api.spotify.com/v1/audio-analysis/7qiZ...      233713   \n",
       "2  https://api.spotify.com/v1/audio-analysis/2XU0...      209438   \n",
       "3  https://api.spotify.com/v1/audio-analysis/7qEH...      182161   \n",
       "4  https://api.spotify.com/v1/audio-analysis/3KkX...      158040   \n",
       "\n",
       "  time_signature                                     song_title  \\\n",
       "0              4                                Blinding Lights   \n",
       "1              4                                   Shape of You   \n",
       "2              4                                   Dance Monkey   \n",
       "3              4                              Someone You Loved   \n",
       "4              4  Sunflower - Spider-Man: Into the Spider-Verse   \n",
       "\n",
       "                 songs_id         artist  \n",
       "0  0VjIjW4GlUZAMYd2vXMi3b     The Weeknd  \n",
       "1  7qiZfU4dY1lWllzX7mPBI3     Ed Sheeran  \n",
       "2  2XU0oxnq2qxCpomAAuJY8K    Tones And I  \n",
       "3  7qEHsqek33rTcFNT9PFqLf  Lewis Capaldi  \n",
       "4  3KkXRkHbMCARz0aVfEt68P    Post Malone  \n",
       "\n",
       "[5 rows x 22 columns]"
      ]
     },
     "execution_count": 3,
     "metadata": {},
     "output_type": "execute_result"
    }
   ],
   "source": [
    "# Loading the audio features collected from the Spotify API.\n",
    "\n",
    "df4=pd.read_csv(\"both_playlists_audio_features.csv\")\n",
    "df4.head()"
   ]
  },
  {
   "cell_type": "code",
   "execution_count": 5,
   "id": "04050275",
   "metadata": {},
   "outputs": [],
   "source": [
    "#drop the duplicated rows with the same song.\n",
    "\n",
    "df5 = df4.drop_duplicates(subset='song_title')"
   ]
  },
  {
   "cell_type": "code",
   "execution_count": 8,
   "id": "8b107c01",
   "metadata": {},
   "outputs": [
    {
     "data": {
      "text/plain": [
       "(154, 22)"
      ]
     },
     "execution_count": 8,
     "metadata": {},
     "output_type": "execute_result"
    }
   ],
   "source": [
    "df5.shape"
   ]
  },
  {
   "cell_type": "code",
   "execution_count": 11,
   "id": "2d5b4b4d",
   "metadata": {},
   "outputs": [
    {
     "data": {
      "text/plain": [
       "Index(['Unnamed: 0', 'danceability', 'energy', 'key', 'loudness', 'mode',\n",
       "       'speechiness', 'acousticness', 'instrumentalness', 'liveness',\n",
       "       'valence', 'tempo', 'type', 'id', 'uri', 'track_href', 'analysis_url',\n",
       "       'duration_ms', 'time_signature', 'song_title', 'songs_id', 'artist'],\n",
       "      dtype='object')"
      ]
     },
     "execution_count": 11,
     "metadata": {},
     "output_type": "execute_result"
    }
   ],
   "source": [
    "df5.columns"
   ]
  },
  {
   "cell_type": "markdown",
   "id": "96c3d440",
   "metadata": {},
   "source": [
    "## K-Means Clustering"
   ]
  },
  {
   "cell_type": "code",
   "execution_count": 12,
   "id": "3ae16bbc",
   "metadata": {},
   "outputs": [
    {
     "data": {
      "text/html": [
       "<div>\n",
       "<style scoped>\n",
       "    .dataframe tbody tr th:only-of-type {\n",
       "        vertical-align: middle;\n",
       "    }\n",
       "\n",
       "    .dataframe tbody tr th {\n",
       "        vertical-align: top;\n",
       "    }\n",
       "\n",
       "    .dataframe thead th {\n",
       "        text-align: right;\n",
       "    }\n",
       "</style>\n",
       "<table border=\"1\" class=\"dataframe\">\n",
       "  <thead>\n",
       "    <tr style=\"text-align: right;\">\n",
       "      <th></th>\n",
       "      <th>danceability</th>\n",
       "      <th>energy</th>\n",
       "      <th>key</th>\n",
       "      <th>loudness</th>\n",
       "      <th>mode</th>\n",
       "      <th>speechiness</th>\n",
       "      <th>acousticness</th>\n",
       "      <th>instrumentalness</th>\n",
       "      <th>liveness</th>\n",
       "      <th>valence</th>\n",
       "      <th>tempo</th>\n",
       "      <th>duration_ms</th>\n",
       "      <th>time_signature</th>\n",
       "    </tr>\n",
       "  </thead>\n",
       "  <tbody>\n",
       "    <tr>\n",
       "      <th>0</th>\n",
       "      <td>0.514</td>\n",
       "      <td>0.730</td>\n",
       "      <td>1</td>\n",
       "      <td>-5.934</td>\n",
       "      <td>1</td>\n",
       "      <td>0.0598</td>\n",
       "      <td>0.00146</td>\n",
       "      <td>0.000095</td>\n",
       "      <td>0.0897</td>\n",
       "      <td>0.334</td>\n",
       "      <td>171.005</td>\n",
       "      <td>200040</td>\n",
       "      <td>4</td>\n",
       "    </tr>\n",
       "    <tr>\n",
       "      <th>1</th>\n",
       "      <td>0.825</td>\n",
       "      <td>0.652</td>\n",
       "      <td>1</td>\n",
       "      <td>-3.183</td>\n",
       "      <td>0</td>\n",
       "      <td>0.0802</td>\n",
       "      <td>0.58100</td>\n",
       "      <td>0.000000</td>\n",
       "      <td>0.0931</td>\n",
       "      <td>0.931</td>\n",
       "      <td>95.977</td>\n",
       "      <td>233713</td>\n",
       "      <td>4</td>\n",
       "    </tr>\n",
       "    <tr>\n",
       "      <th>2</th>\n",
       "      <td>0.824</td>\n",
       "      <td>0.588</td>\n",
       "      <td>6</td>\n",
       "      <td>-6.400</td>\n",
       "      <td>0</td>\n",
       "      <td>0.0924</td>\n",
       "      <td>0.69200</td>\n",
       "      <td>0.000104</td>\n",
       "      <td>0.1490</td>\n",
       "      <td>0.513</td>\n",
       "      <td>98.027</td>\n",
       "      <td>209438</td>\n",
       "      <td>4</td>\n",
       "    </tr>\n",
       "    <tr>\n",
       "      <th>3</th>\n",
       "      <td>0.501</td>\n",
       "      <td>0.405</td>\n",
       "      <td>1</td>\n",
       "      <td>-5.679</td>\n",
       "      <td>1</td>\n",
       "      <td>0.0319</td>\n",
       "      <td>0.75100</td>\n",
       "      <td>0.000000</td>\n",
       "      <td>0.1050</td>\n",
       "      <td>0.446</td>\n",
       "      <td>109.891</td>\n",
       "      <td>182161</td>\n",
       "      <td>4</td>\n",
       "    </tr>\n",
       "    <tr>\n",
       "      <th>4</th>\n",
       "      <td>0.760</td>\n",
       "      <td>0.479</td>\n",
       "      <td>2</td>\n",
       "      <td>-5.574</td>\n",
       "      <td>1</td>\n",
       "      <td>0.0466</td>\n",
       "      <td>0.55600</td>\n",
       "      <td>0.000000</td>\n",
       "      <td>0.0703</td>\n",
       "      <td>0.913</td>\n",
       "      <td>89.911</td>\n",
       "      <td>158040</td>\n",
       "      <td>4</td>\n",
       "    </tr>\n",
       "  </tbody>\n",
       "</table>\n",
       "</div>"
      ],
      "text/plain": [
       "   danceability  energy  key  loudness  mode  speechiness  acousticness  \\\n",
       "0         0.514   0.730    1    -5.934     1       0.0598       0.00146   \n",
       "1         0.825   0.652    1    -3.183     0       0.0802       0.58100   \n",
       "2         0.824   0.588    6    -6.400     0       0.0924       0.69200   \n",
       "3         0.501   0.405    1    -5.679     1       0.0319       0.75100   \n",
       "4         0.760   0.479    2    -5.574     1       0.0466       0.55600   \n",
       "\n",
       "   instrumentalness  liveness  valence    tempo  duration_ms  time_signature  \n",
       "0          0.000095    0.0897    0.334  171.005       200040               4  \n",
       "1          0.000000    0.0931    0.931   95.977       233713               4  \n",
       "2          0.000104    0.1490    0.513   98.027       209438               4  \n",
       "3          0.000000    0.1050    0.446  109.891       182161               4  \n",
       "4          0.000000    0.0703    0.913   89.911       158040               4  "
      ]
     },
     "execution_count": 12,
     "metadata": {},
     "output_type": "execute_result"
    }
   ],
   "source": [
    "# Selecting the columns for X\n",
    "\n",
    "X = df5.drop(columns=['Unnamed: 0','type', 'id', 'uri', 'track_href', 'analysis_url','song_title', 'songs_id', 'artist'])\n",
    "X.head()"
   ]
  },
  {
   "cell_type": "code",
   "execution_count": 14,
   "id": "45f9f368",
   "metadata": {},
   "outputs": [
    {
     "data": {
      "text/plain": [
       "array([[-0.85613997,  0.65915833, -1.2819802 , ...,  1.70907511,\n",
       "        -0.41255878,  0.15471319],\n",
       "       [ 1.4202142 ,  0.21807929, -1.2819802 , ..., -0.90627454,\n",
       "         0.44471419,  0.15471319],\n",
       "       [ 1.41289473, -0.14383172,  0.13834319, ..., -0.83481499,\n",
       "        -0.17329731,  0.15471319],\n",
       "       ...,\n",
       "       [-0.52676396, -2.49625326,  1.2746019 , ..., -1.56690932,\n",
       "        -0.10705361,  0.15471319],\n",
       "       [-1.08304344, -1.75546667, -0.42978617, ...,  0.39843733,\n",
       "         0.6089996 , -3.81625861],\n",
       "       [-1.40509997, -2.60369559, -1.2819802 , ..., -0.18181418,\n",
       "         1.81897829, -3.81625861]])"
      ]
     },
     "execution_count": 14,
     "metadata": {},
     "output_type": "execute_result"
    }
   ],
   "source": [
    "# Standardize the numerical data because K means clustering is based on distances between features.\n",
    "\n",
    "scaler = StandardScaler()\n",
    "scale_x = scaler.fit_transform(X)   #scale_x is an array\n",
    "scale_x\n",
    "#scale_x = pd.DataFrame(scale_x, index = X.index, columns=X.columns) #scale_x array to dataframe\n",
    "#scale_x"
   ]
  },
  {
   "cell_type": "markdown",
   "id": "102071f9",
   "metadata": {},
   "source": [
    "### Determining the optimal number of clusters (choosing the best K)\n",
    "\n",
    "Before we apply our model we need to find the best number of clusters for K means Clustering"
   ]
  },
  {
   "cell_type": "markdown",
   "id": "443b42d1",
   "metadata": {},
   "source": [
    "#### The \"Elbow\" Method -  sum of squares at each number of clusters is calculated "
   ]
  },
  {
   "cell_type": "code",
   "execution_count": 15,
   "id": "6a19dc72",
   "metadata": {},
   "outputs": [
    {
     "data": {
      "text/plain": [
       "[2002.0000000000002,\n",
       " 1661.3756308107108,\n",
       " 1515.747631710795,\n",
       " 1409.1829673520424,\n",
       " 1292.5284398019319,\n",
       " 1202.1500121920467,\n",
       " 1127.169667621867,\n",
       " 1050.4184688102473,\n",
       " 997.9325535537453,\n",
       " 965.5815964554597,\n",
       " 925.088775455638,\n",
       " 898.3333626880444,\n",
       " 878.9122865499314,\n",
       " 839.3152534792641]"
      ]
     },
     "execution_count": 15,
     "metadata": {},
     "output_type": "execute_result"
    }
   ],
   "source": [
    "# Using the quality metric inertia to find and choose the best K for our dataset (the optimal number of clusters)\n",
    "\n",
    "K = range(1, 15) # different K values \n",
    "\n",
    "inertia = []\n",
    "\n",
    "for k in K:\n",
    "    kmeans = KMeans(n_clusters=k, random_state=42)   #Fitting the model with a range of values for K\n",
    "    kmeans.fit(scale_x)\n",
    "    inertia.append(kmeans.inertia_)\n",
    "\n",
    "inertia"
   ]
  },
  {
   "cell_type": "code",
   "execution_count": 16,
   "id": "399d0579",
   "metadata": {},
   "outputs": [
    {
     "data": {
      "image/png": "[encoded data removed]",
      "text/plain": [
       "<Figure size 1600x800 with 1 Axes>"
      ]
     },
     "metadata": {},
     "output_type": "display_data"
    }
   ],
   "source": [
    "# Plot the inertia to visualize better the best K ( find the \"elbow\" in the plot)\n",
    "\n",
    "plt.figure(figsize=(16,8))\n",
    "plt.plot(K, inertia, 'bx-')\n",
    "plt.xlabel('k')\n",
    "plt.ylabel('inertia')\n",
    "plt.xticks(np.arange(min(K), max(K)+1, 1.0))\n",
    "plt.show()"
   ]
  },
  {
   "cell_type": "markdown",
   "id": "b88594b1",
   "metadata": {},
   "source": [
    "It's not very clear where is the \"elbow\" in the above plot to find best K value, perhaps 2??\n",
    "\n",
    "I am going to use Yellowbrick (\"KElbowVisualizer\") to find the elbow and see if we have a more clear answer."
   ]
  },
  {
   "cell_type": "code",
   "execution_count": 17,
   "id": "1cfd43e1",
   "metadata": {},
   "outputs": [
    {
     "data": {
      "image/png": "[encoded data removed]",
      "text/plain": [
       "<Figure size 800x550 with 2 Axes>"
      ]
     },
     "metadata": {},
     "output_type": "display_data"
    },
    {
     "data": {
      "text/plain": [
       "<AxesSubplot:title={'center':'Distortion Score Elbow for KMeans Clustering'}, xlabel='k', ylabel='distortion score'>"
      ]
     },
     "execution_count": 17,
     "metadata": {},
     "output_type": "execute_result"
    }
   ],
   "source": [
    "visualizer = KElbowVisualizer(kmeans, k=(1,15))\n",
    "\n",
    "visualizer.fit(scale_x)    # Fit the data to the visualizer\n",
    "visualizer.poof()"
   ]
  },
  {
   "cell_type": "markdown",
   "id": "b65d6802",
   "metadata": {},
   "source": [
    "The suggested elbow is where K = 6. \n",
    "\n",
    "Let's use a different method, the Silhouette Score to see if best K remains the same."
   ]
  },
  {
   "cell_type": "markdown",
   "id": "5b03acca",
   "metadata": {},
   "source": [
    "#### Silhouette Method\n",
    "\n",
    "The silhouette coefficient may provide a more objective answer to determine the optimal number of clusters.\n",
    "\n",
    "Silhouette score is used to measure how dense and well-separated the clusters are, it ranges between -1 and 1, the higher the score more dense and separated are the clusters.\n"
   ]
  },
  {
   "cell_type": "code",
   "execution_count": 18,
   "id": "b2f1d992",
   "metadata": {},
   "outputs": [
    {
     "data": {
      "image/png": "[encoded data removed]",
      "text/plain": [
       "<Figure size 1600x800 with 1 Axes>"
      ]
     },
     "metadata": {},
     "output_type": "display_data"
    }
   ],
   "source": [
    "K = range(2, 20)\n",
    "\n",
    "silhouette = [] #to store the silhouette scores\n",
    "\n",
    "for k in K:\n",
    "    kmeans = KMeans(n_clusters=k, random_state=42)\n",
    "    kmeans.fit(scale_x)\n",
    "    silhouette.append(silhouette_score(scale_x, kmeans.predict(scale_x)))\n",
    "\n",
    "\n",
    "plt.figure(figsize=(16,8))\n",
    "plt.plot(K, silhouette, 'bx-')\n",
    "plt.xlabel('k')\n",
    "plt.ylabel('silhouette score')\n",
    "plt.xticks(np.arange(min(K), max(K)+1, 1.0))\n",
    "plt.show()"
   ]
  },
  {
   "cell_type": "markdown",
   "id": "5d561347",
   "metadata": {},
   "source": [
    "According to the above plot, **K = 2** seems to be the optimal number of clusters in the data, where the silhouette score is higher."
   ]
  },
  {
   "cell_type": "code",
   "execution_count": 22,
   "id": "99b5cbc0",
   "metadata": {},
   "outputs": [],
   "source": [
    "# Transform the data into 2D so we can assess the number of clusters visually with SilhouetteVisualizer.\n",
    "\n",
    "from sklearn.decomposition import PCA  \n",
    "\n",
    "pca = PCA(2) #reducing to 2 dimensions \n",
    "X_2D = pca.fit_transform(scale_x)  # scale_x df \"compressed\" into 2 columns."
   ]
  },
  {
   "cell_type": "code",
   "execution_count": 23,
   "id": "4a857319",
   "metadata": {},
   "outputs": [
    {
     "data": {
      "image/png": "[encoded data removed]",
      "text/plain": [
       "<Figure size 1500x800 with 4 Axes>"
      ]
     },
     "metadata": {},
     "output_type": "display_data"
    }
   ],
   "source": [
    "fig, ax = plt.subplots(2, 2, figsize=(15,8))\n",
    "for i in [2, 3, 4, 5]:   #loop with K 2, 3 , 4, 5\n",
    "    '''\n",
    "    Create KMeans instance for different number of clusters\n",
    "    '''\n",
    "    km = KMeans(n_clusters=i, init='k-means++', n_init=10, max_iter=100, random_state=42)\n",
    "    q, mod = divmod(i, 2)\n",
    "    '''\n",
    "    Create SilhouetteVisualizer instance with KMeans instance\n",
    "    Fit the visualizer\n",
    "    '''\n",
    "    visualizer = SilhouetteVisualizer(km, colors='yellowbrick', ax=ax[q-1][mod])\n",
    "    visualizer.fit(X_2D)"
   ]
  },
  {
   "cell_type": "markdown",
   "id": "d23e0058",
   "metadata": {},
   "source": [
    "- All of the clusters are above the average silhouette scores.\n",
    "\n",
    "- n_cluster 4 and 5 have wider fluctuations, so I am going to focus on n_cluster 2 and 3.\n",
    "\n",
    "\n",
    "- Between n_cluster 2 and 3: Regarding cluster thickness, for the plot with n_cluster 3, the thickness looks more uniform when comparing with n_clusters=2, where one cluster is a lot more thicker than the other, therefore I am going to select the optimal **number of clusters = 3**!"
   ]
  },
  {
   "cell_type": "code",
   "execution_count": 25,
   "id": "afe84f5f",
   "metadata": {},
   "outputs": [
    {
     "data": {
      "text/plain": [
       "array([0, 1, 1, 2, 1, 0, 1, 0, 1, 1, 2, 2, 0, 1, 0, 0, 2, 1, 2, 1, 0, 1,\n",
       "       2, 2, 2, 0, 0, 1, 2, 1, 1, 2, 2, 0, 1, 0, 2, 2, 1, 0, 1, 2, 0, 0,\n",
       "       1, 1, 0, 1, 0, 1, 0, 0, 1, 0, 1, 1, 2, 1, 0, 1, 1, 1, 0, 0, 0, 2,\n",
       "       1, 1, 0, 0, 2, 1, 1, 0, 0, 1, 1, 0, 0, 2, 2, 2, 1, 0, 1, 2, 2, 1,\n",
       "       1, 1, 0, 0, 0, 1, 1, 1, 1, 1, 0, 1, 2, 2, 2, 2, 2, 2, 2, 2, 2, 2,\n",
       "       0, 0, 2, 2, 0, 0, 2, 1, 0, 1, 1, 0, 1, 0, 2, 0, 1, 0, 1, 1, 1, 1,\n",
       "       0, 0, 1, 0, 2, 0, 0, 2, 1, 0, 0, 2, 1, 0, 1, 0, 2, 2, 0, 2, 2, 2])"
      ]
     },
     "execution_count": 25,
     "metadata": {},
     "output_type": "execute_result"
    }
   ],
   "source": [
    "#Let's train and predict with K-means Clustering with 3 clusters.\n",
    "\n",
    "# In this case because we do not have a target (Unsupervised ML) we don't do Train Test Split, so we train and predict on X_test.\n",
    "\n",
    "kmeans = KMeans(n_clusters=3, random_state=42)  \n",
    "kmeans.fit_predict(scale_x) #predicting/assigning the clusters to our data points.\n",
    "clusters = kmeans.predict(scale_x)\n",
    "clusters"
   ]
  },
  {
   "cell_type": "code",
   "execution_count": 27,
   "id": "6d59ce22",
   "metadata": {},
   "outputs": [
    {
     "data": {
      "text/html": [
       "<div>\n",
       "<style scoped>\n",
       "    .dataframe tbody tr th:only-of-type {\n",
       "        vertical-align: middle;\n",
       "    }\n",
       "\n",
       "    .dataframe tbody tr th {\n",
       "        vertical-align: top;\n",
       "    }\n",
       "\n",
       "    .dataframe thead th {\n",
       "        text-align: right;\n",
       "    }\n",
       "</style>\n",
       "<table border=\"1\" class=\"dataframe\">\n",
       "  <thead>\n",
       "    <tr style=\"text-align: right;\">\n",
       "      <th></th>\n",
       "      <th>danceability</th>\n",
       "      <th>energy</th>\n",
       "      <th>key</th>\n",
       "      <th>loudness</th>\n",
       "      <th>mode</th>\n",
       "      <th>speechiness</th>\n",
       "      <th>acousticness</th>\n",
       "      <th>instrumentalness</th>\n",
       "      <th>liveness</th>\n",
       "      <th>valence</th>\n",
       "      <th>tempo</th>\n",
       "      <th>duration_ms</th>\n",
       "      <th>time_signature</th>\n",
       "      <th>song_title</th>\n",
       "      <th>artist</th>\n",
       "      <th>cluster</th>\n",
       "    </tr>\n",
       "  </thead>\n",
       "  <tbody>\n",
       "    <tr>\n",
       "      <th>0</th>\n",
       "      <td>-0.856140</td>\n",
       "      <td>0.659158</td>\n",
       "      <td>-1.281980</td>\n",
       "      <td>0.161153</td>\n",
       "      <td>0.714006</td>\n",
       "      <td>-0.331406</td>\n",
       "      <td>-0.983990</td>\n",
       "      <td>-0.166601</td>\n",
       "      <td>-0.638048</td>\n",
       "      <td>-0.624680</td>\n",
       "      <td>1.709075</td>\n",
       "      <td>-0.412559</td>\n",
       "      <td>0.154713</td>\n",
       "      <td>Blinding Lights</td>\n",
       "      <td>The Weeknd</td>\n",
       "      <td>0</td>\n",
       "    </tr>\n",
       "    <tr>\n",
       "      <th>1</th>\n",
       "      <td>1.420214</td>\n",
       "      <td>0.218079</td>\n",
       "      <td>-1.281980</td>\n",
       "      <td>1.569314</td>\n",
       "      <td>-1.400549</td>\n",
       "      <td>-0.077195</td>\n",
       "      <td>1.185235</td>\n",
       "      <td>-0.168719</td>\n",
       "      <td>-0.607108</td>\n",
       "      <td>1.935491</td>\n",
       "      <td>-0.906275</td>\n",
       "      <td>0.444714</td>\n",
       "      <td>0.154713</td>\n",
       "      <td>Shape of You</td>\n",
       "      <td>Ed Sheeran</td>\n",
       "      <td>1</td>\n",
       "    </tr>\n",
       "    <tr>\n",
       "      <th>2</th>\n",
       "      <td>1.412895</td>\n",
       "      <td>-0.143832</td>\n",
       "      <td>0.138343</td>\n",
       "      <td>-0.077379</td>\n",
       "      <td>-1.400549</td>\n",
       "      <td>0.074832</td>\n",
       "      <td>1.600709</td>\n",
       "      <td>-0.166410</td>\n",
       "      <td>-0.098411</td>\n",
       "      <td>0.142943</td>\n",
       "      <td>-0.834815</td>\n",
       "      <td>-0.173297</td>\n",
       "      <td>0.154713</td>\n",
       "      <td>Dance Monkey</td>\n",
       "      <td>Tones And I</td>\n",
       "      <td>1</td>\n",
       "    </tr>\n",
       "    <tr>\n",
       "      <th>3</th>\n",
       "      <td>-0.951293</td>\n",
       "      <td>-1.178671</td>\n",
       "      <td>-1.281980</td>\n",
       "      <td>0.291681</td>\n",
       "      <td>0.714006</td>\n",
       "      <td>-0.679076</td>\n",
       "      <td>1.821547</td>\n",
       "      <td>-0.168719</td>\n",
       "      <td>-0.498817</td>\n",
       "      <td>-0.144380</td>\n",
       "      <td>-0.421256</td>\n",
       "      <td>-0.867736</td>\n",
       "      <td>0.154713</td>\n",
       "      <td>Someone You Loved</td>\n",
       "      <td>Lewis Capaldi</td>\n",
       "      <td>2</td>\n",
       "    </tr>\n",
       "    <tr>\n",
       "      <th>4</th>\n",
       "      <td>0.944449</td>\n",
       "      <td>-0.760211</td>\n",
       "      <td>-0.997916</td>\n",
       "      <td>0.345427</td>\n",
       "      <td>0.714006</td>\n",
       "      <td>-0.495895</td>\n",
       "      <td>1.091659</td>\n",
       "      <td>-0.168719</td>\n",
       "      <td>-0.814591</td>\n",
       "      <td>1.858300</td>\n",
       "      <td>-1.117725</td>\n",
       "      <td>-1.481827</td>\n",
       "      <td>0.154713</td>\n",
       "      <td>Sunflower - Spider-Man: Into the Spider-Verse</td>\n",
       "      <td>Post Malone</td>\n",
       "      <td>1</td>\n",
       "    </tr>\n",
       "  </tbody>\n",
       "</table>\n",
       "</div>"
      ],
      "text/plain": [
       "   danceability    energy       key  loudness      mode  speechiness  \\\n",
       "0     -0.856140  0.659158 -1.281980  0.161153  0.714006    -0.331406   \n",
       "1      1.420214  0.218079 -1.281980  1.569314 -1.400549    -0.077195   \n",
       "2      1.412895 -0.143832  0.138343 -0.077379 -1.400549     0.074832   \n",
       "3     -0.951293 -1.178671 -1.281980  0.291681  0.714006    -0.679076   \n",
       "4      0.944449 -0.760211 -0.997916  0.345427  0.714006    -0.495895   \n",
       "\n",
       "   acousticness  instrumentalness  liveness   valence     tempo  duration_ms  \\\n",
       "0     -0.983990         -0.166601 -0.638048 -0.624680  1.709075    -0.412559   \n",
       "1      1.185235         -0.168719 -0.607108  1.935491 -0.906275     0.444714   \n",
       "2      1.600709         -0.166410 -0.098411  0.142943 -0.834815    -0.173297   \n",
       "3      1.821547         -0.168719 -0.498817 -0.144380 -0.421256    -0.867736   \n",
       "4      1.091659         -0.168719 -0.814591  1.858300 -1.117725    -1.481827   \n",
       "\n",
       "   time_signature                                     song_title  \\\n",
       "0        0.154713                                Blinding Lights   \n",
       "1        0.154713                                   Shape of You   \n",
       "2        0.154713                                   Dance Monkey   \n",
       "3        0.154713                              Someone You Loved   \n",
       "4        0.154713  Sunflower - Spider-Man: Into the Spider-Verse   \n",
       "\n",
       "          artist  cluster  \n",
       "0     The Weeknd        0  \n",
       "1     Ed Sheeran        1  \n",
       "2    Tones And I        1  \n",
       "3  Lewis Capaldi        2  \n",
       "4    Post Malone        1  "
      ]
     },
     "execution_count": 27,
     "metadata": {},
     "output_type": "execute_result"
    }
   ],
   "source": [
    "# adding column song_title, artist, scale_x array and clusters array to the df.\n",
    "\n",
    "scaled_df = pd.DataFrame(scale_x, columns=X.columns)\n",
    "scaled_df['song_title'] = df5['song_title']\n",
    "scaled_df['artist'] = df5['artist']\n",
    "scaled_df['cluster'] = clusters\n",
    "scaled_df.head()"
   ]
  },
  {
   "cell_type": "code",
   "execution_count": 28,
   "id": "281024dc",
   "metadata": {},
   "outputs": [
    {
     "data": {
      "text/plain": [
       "1    57\n",
       "0    53\n",
       "2    44\n",
       "Name: cluster, dtype: int64"
      ]
     },
     "execution_count": 28,
     "metadata": {},
     "output_type": "execute_result"
    }
   ],
   "source": [
    "scaled_df.cluster.value_counts()"
   ]
  },
  {
   "cell_type": "markdown",
   "id": "5d4e2a91",
   "metadata": {},
   "source": [
    "## Building the Song Recommender"
   ]
  },
  {
   "cell_type": "code",
   "execution_count": 29,
   "id": "dc2a035b",
   "metadata": {},
   "outputs": [],
   "source": [
    "# Function that after user inputs a song, it recommends a random different song from the same playlist \"top_songs\"\n",
    "\n",
    "def song_from_top100():\n",
    "    user_input = input(\"Please insert a Song Name: \").lower()\n",
    "    for i in top_songs['song']:\n",
    "        if user_input in i:\n",
    "            rows = top_songs.shape[0]\n",
    "            random_row = r.randrange(rows)\n",
    "            print('\\n [Your Recommended Artist and Song:')\n",
    "            return ' - '.join(top_songs.iloc[random_row,:])"
   ]
  },
  {
   "cell_type": "code",
   "execution_count": 50,
   "id": "a0fa8433",
   "metadata": {},
   "outputs": [],
   "source": [
    "# Function that recommends a different song with similar characteristics,  if user inputs a song that is not in \"top_songs\" playlist, based on audio features (same cluster) from a spotify playlist.\n",
    "\n",
    "def song_audio_features():\n",
    "    user_input = input(\"Please insert a Song Name: \").lower()\n",
    "    sp = spotipy.Spotify(auth_manager=SpotifyClientCredentials(client_id=\"af3a4e21d9974f798b0ddef081728f2b\",\n",
    "                                                           client_secret=\"99a65d20eff04d64bcf24b11824dffc4\"))\n",
    "    results = sp.search(q=f'track:{user_input}', limit=1)\n",
    "    track_id = results['tracks']['items'][0]['id']  #obtain user input song id\n",
    "    \n",
    "    audio_features = sp.audio_features(track_id)   # get song features with the obtained id  \n",
    "    \n",
    "    df_ = pd.DataFrame(audio_features) # create dataframe\n",
    "    new_features = df_[X.columns]\n",
    "    \n",
    "    scaled_x = scaler.transform(new_features) # scale features\n",
    "    \n",
    "    \n",
    "    cluster_pred = kmeans.predict(scaled_x) # predict cluster of user input song \n",
    "    \n",
    "    filtered_df = scaled_df[scaled_df['cluster'] == cluster_pred[0]][X.columns]   # filter dataset to predicted cluster(cluster is an array with only 1 element therefore index 0)\n",
    " \n",
    "    closest, _ = pairwise_distances_argmin_min(scaled_x, filtered_df)  #get closest song from filtered dataset with same cluster as user input song\n",
    "\n",
    "    print('\\n [Your Recommended Artist and Song:')\n",
    "    return ' - '.join([scaled_df.loc[closest]['song_title'].values[0], scaled_df.loc[closest]['artist'].values[0]])\n"
   ]
  },
  {
   "cell_type": "code",
   "execution_count": 32,
   "id": "4b49aa77",
   "metadata": {},
   "outputs": [],
   "source": [
    "# Both functions together\n",
    "\n",
    "def song_recommender():\n",
    "    user_input = input(\"Please insert a Song Name: \").lower()\n",
    "    for i in top_songs['song']:\n",
    "        if user_input in i:\n",
    "            rows = top_songs.shape[0]\n",
    "            random_row = r.randrange(rows)\n",
    "            print('\\n [Your Recommended Artist and Song:')\n",
    "            return ' - '.join(top_songs.iloc[random_row,:])\n",
    "    if user_input not in i:\n",
    "        sp = spotipy.Spotify(auth_manager=SpotifyClientCredentials(client_id=\"af3a4e21d9974f798b0ddef081728f2b\",\n",
    "                                                           client_secret=\"99a65d20eff04d64bcf24b11824dffc4\"))\n",
    "        results = sp.search(q=f'track:{user_input}', limit=1)\n",
    "        track_id = results['tracks']['items'][0]['id']  #obtain user input song id\n",
    "        audio_features = sp.audio_features(track_id)   # get song features with the obtained id  \n",
    "            \n",
    "        df_ = pd.DataFrame(audio_features) # create dataframe\n",
    "        new_features = df_[X.columns]\n",
    "\n",
    "        scaled_x = scaler.transform(new_features) # scale features for the kmeans model\n",
    "        cluster_pred = kmeans.predict(scaled_x) # predict cluster of user input song \n",
    "\n",
    "        filtered_df = scaled_df[scaled_df['cluster'] == cluster_pred[0]][X.columns]   # filter dataset to predicted cluster(cluster is an array with only 1 element therefore index 0)\n",
    "\n",
    "        closest, _ = pairwise_distances_argmin_min(scaled_x, filtered_df)  #get closest song from filtered dataset with same cluster as user input song\n",
    "            \n",
    "        print('\\n Your Recommended Song and Artist:')\n",
    "        return ' - '.join([scaled_df.loc[closest]['song_title'].values[0], scaled_df.loc[closest]['artist'].values[0]])\n"
   ]
  },
  {
   "cell_type": "code",
   "execution_count": 37,
   "id": "b488d35d",
   "metadata": {},
   "outputs": [
    {
     "name": "stdout",
     "output_type": "stream",
     "text": [
      "Please insert a Song Name: Calm Down\n",
      "\n",
      " [Your Recommended Artist and Song:\n"
     ]
    },
    {
     "data": {
      "text/plain": [
       "'Rod Wave - fight the feeling'"
      ]
     },
     "execution_count": 37,
     "metadata": {},
     "output_type": "execute_result"
    }
   ],
   "source": [
    "song_recommender()"
   ]
  },
  {
   "cell_type": "code",
   "execution_count": 34,
   "id": "07f29fc1",
   "metadata": {},
   "outputs": [
    {
     "data": {
      "text/html": [
       "<div>\n",
       "<style scoped>\n",
       "    .dataframe tbody tr th:only-of-type {\n",
       "        vertical-align: middle;\n",
       "    }\n",
       "\n",
       "    .dataframe tbody tr th {\n",
       "        vertical-align: top;\n",
       "    }\n",
       "\n",
       "    .dataframe thead th {\n",
       "        text-align: right;\n",
       "    }\n",
       "</style>\n",
       "<table border=\"1\" class=\"dataframe\">\n",
       "  <thead>\n",
       "    <tr style=\"text-align: right;\">\n",
       "      <th></th>\n",
       "      <th>artist</th>\n",
       "      <th>song</th>\n",
       "    </tr>\n",
       "  </thead>\n",
       "  <tbody>\n",
       "    <tr>\n",
       "      <th>0</th>\n",
       "      <td>Morgan Wallen</td>\n",
       "      <td>last night</td>\n",
       "    </tr>\n",
       "    <tr>\n",
       "      <th>1</th>\n",
       "      <td>Luke Combs</td>\n",
       "      <td>fast car</td>\n",
       "    </tr>\n",
       "    <tr>\n",
       "      <th>2</th>\n",
       "      <td>Rema &amp; Selena Gomez</td>\n",
       "      <td>calm down</td>\n",
       "    </tr>\n",
       "    <tr>\n",
       "      <th>3</th>\n",
       "      <td>Miley Cyrus</td>\n",
       "      <td>flowers</td>\n",
       "    </tr>\n",
       "    <tr>\n",
       "      <th>4</th>\n",
       "      <td>Lil Durk Featuring J. Cole</td>\n",
       "      <td>all my life</td>\n",
       "    </tr>\n",
       "  </tbody>\n",
       "</table>\n",
       "</div>"
      ],
      "text/plain": [
       "                       artist         song\n",
       "0               Morgan Wallen   last night\n",
       "1                  Luke Combs     fast car\n",
       "2         Rema & Selena Gomez    calm down\n",
       "3                 Miley Cyrus      flowers\n",
       "4  Lil Durk Featuring J. Cole  all my life"
      ]
     },
     "execution_count": 34,
     "metadata": {},
     "output_type": "execute_result"
    }
   ],
   "source": [
    "top_songs.head()"
   ]
  },
  {
   "cell_type": "code",
   "execution_count": 36,
   "id": "4624a39e",
   "metadata": {
    "scrolled": true
   },
   "outputs": [
    {
     "data": {
      "text/html": [
       "<div>\n",
       "<style scoped>\n",
       "    .dataframe tbody tr th:only-of-type {\n",
       "        vertical-align: middle;\n",
       "    }\n",
       "\n",
       "    .dataframe tbody tr th {\n",
       "        vertical-align: top;\n",
       "    }\n",
       "\n",
       "    .dataframe thead th {\n",
       "        text-align: right;\n",
       "    }\n",
       "</style>\n",
       "<table border=\"1\" class=\"dataframe\">\n",
       "  <thead>\n",
       "    <tr style=\"text-align: right;\">\n",
       "      <th></th>\n",
       "      <th>artist</th>\n",
       "      <th>song</th>\n",
       "    </tr>\n",
       "  </thead>\n",
       "  <tbody>\n",
       "    <tr>\n",
       "      <th>81</th>\n",
       "      <td>Megan Thee Stallion</td>\n",
       "      <td>planb</td>\n",
       "    </tr>\n",
       "  </tbody>\n",
       "</table>\n",
       "</div>"
      ],
      "text/plain": [
       "                 artist   song\n",
       "81  Megan Thee Stallion  planb"
      ]
     },
     "execution_count": 36,
     "metadata": {},
     "output_type": "execute_result"
    }
   ],
   "source": [
    "# Example\n",
    "\n",
    "top_songs[top_songs['song']=='planb']"
   ]
  },
  {
   "cell_type": "code",
   "execution_count": 38,
   "id": "23092469",
   "metadata": {},
   "outputs": [
    {
     "data": {
      "text/html": [
       "<div>\n",
       "<style scoped>\n",
       "    .dataframe tbody tr th:only-of-type {\n",
       "        vertical-align: middle;\n",
       "    }\n",
       "\n",
       "    .dataframe tbody tr th {\n",
       "        vertical-align: top;\n",
       "    }\n",
       "\n",
       "    .dataframe thead th {\n",
       "        text-align: right;\n",
       "    }\n",
       "</style>\n",
       "<table border=\"1\" class=\"dataframe\">\n",
       "  <thead>\n",
       "    <tr style=\"text-align: right;\">\n",
       "      <th></th>\n",
       "      <th>danceability</th>\n",
       "      <th>energy</th>\n",
       "      <th>key</th>\n",
       "      <th>loudness</th>\n",
       "      <th>mode</th>\n",
       "      <th>speechiness</th>\n",
       "      <th>acousticness</th>\n",
       "      <th>instrumentalness</th>\n",
       "      <th>liveness</th>\n",
       "      <th>valence</th>\n",
       "      <th>tempo</th>\n",
       "      <th>duration_ms</th>\n",
       "      <th>time_signature</th>\n",
       "      <th>song_title</th>\n",
       "      <th>artist</th>\n",
       "      <th>cluster</th>\n",
       "    </tr>\n",
       "  </thead>\n",
       "  <tbody>\n",
       "    <tr>\n",
       "      <th>0</th>\n",
       "      <td>-0.856140</td>\n",
       "      <td>0.659158</td>\n",
       "      <td>-1.281980</td>\n",
       "      <td>0.161153</td>\n",
       "      <td>0.714006</td>\n",
       "      <td>-0.331406</td>\n",
       "      <td>-0.983990</td>\n",
       "      <td>-0.166601</td>\n",
       "      <td>-0.638048</td>\n",
       "      <td>-0.624680</td>\n",
       "      <td>1.709075</td>\n",
       "      <td>-0.412559</td>\n",
       "      <td>0.154713</td>\n",
       "      <td>Blinding Lights</td>\n",
       "      <td>The Weeknd</td>\n",
       "      <td>0</td>\n",
       "    </tr>\n",
       "    <tr>\n",
       "      <th>1</th>\n",
       "      <td>1.420214</td>\n",
       "      <td>0.218079</td>\n",
       "      <td>-1.281980</td>\n",
       "      <td>1.569314</td>\n",
       "      <td>-1.400549</td>\n",
       "      <td>-0.077195</td>\n",
       "      <td>1.185235</td>\n",
       "      <td>-0.168719</td>\n",
       "      <td>-0.607108</td>\n",
       "      <td>1.935491</td>\n",
       "      <td>-0.906275</td>\n",
       "      <td>0.444714</td>\n",
       "      <td>0.154713</td>\n",
       "      <td>Shape of You</td>\n",
       "      <td>Ed Sheeran</td>\n",
       "      <td>1</td>\n",
       "    </tr>\n",
       "    <tr>\n",
       "      <th>2</th>\n",
       "      <td>1.412895</td>\n",
       "      <td>-0.143832</td>\n",
       "      <td>0.138343</td>\n",
       "      <td>-0.077379</td>\n",
       "      <td>-1.400549</td>\n",
       "      <td>0.074832</td>\n",
       "      <td>1.600709</td>\n",
       "      <td>-0.166410</td>\n",
       "      <td>-0.098411</td>\n",
       "      <td>0.142943</td>\n",
       "      <td>-0.834815</td>\n",
       "      <td>-0.173297</td>\n",
       "      <td>0.154713</td>\n",
       "      <td>Dance Monkey</td>\n",
       "      <td>Tones And I</td>\n",
       "      <td>1</td>\n",
       "    </tr>\n",
       "    <tr>\n",
       "      <th>3</th>\n",
       "      <td>-0.951293</td>\n",
       "      <td>-1.178671</td>\n",
       "      <td>-1.281980</td>\n",
       "      <td>0.291681</td>\n",
       "      <td>0.714006</td>\n",
       "      <td>-0.679076</td>\n",
       "      <td>1.821547</td>\n",
       "      <td>-0.168719</td>\n",
       "      <td>-0.498817</td>\n",
       "      <td>-0.144380</td>\n",
       "      <td>-0.421256</td>\n",
       "      <td>-0.867736</td>\n",
       "      <td>0.154713</td>\n",
       "      <td>Someone You Loved</td>\n",
       "      <td>Lewis Capaldi</td>\n",
       "      <td>2</td>\n",
       "    </tr>\n",
       "    <tr>\n",
       "      <th>4</th>\n",
       "      <td>0.944449</td>\n",
       "      <td>-0.760211</td>\n",
       "      <td>-0.997916</td>\n",
       "      <td>0.345427</td>\n",
       "      <td>0.714006</td>\n",
       "      <td>-0.495895</td>\n",
       "      <td>1.091659</td>\n",
       "      <td>-0.168719</td>\n",
       "      <td>-0.814591</td>\n",
       "      <td>1.858300</td>\n",
       "      <td>-1.117725</td>\n",
       "      <td>-1.481827</td>\n",
       "      <td>0.154713</td>\n",
       "      <td>Sunflower - Spider-Man: Into the Spider-Verse</td>\n",
       "      <td>Post Malone</td>\n",
       "      <td>1</td>\n",
       "    </tr>\n",
       "  </tbody>\n",
       "</table>\n",
       "</div>"
      ],
      "text/plain": [
       "   danceability    energy       key  loudness      mode  speechiness  \\\n",
       "0     -0.856140  0.659158 -1.281980  0.161153  0.714006    -0.331406   \n",
       "1      1.420214  0.218079 -1.281980  1.569314 -1.400549    -0.077195   \n",
       "2      1.412895 -0.143832  0.138343 -0.077379 -1.400549     0.074832   \n",
       "3     -0.951293 -1.178671 -1.281980  0.291681  0.714006    -0.679076   \n",
       "4      0.944449 -0.760211 -0.997916  0.345427  0.714006    -0.495895   \n",
       "\n",
       "   acousticness  instrumentalness  liveness   valence     tempo  duration_ms  \\\n",
       "0     -0.983990         -0.166601 -0.638048 -0.624680  1.709075    -0.412559   \n",
       "1      1.185235         -0.168719 -0.607108  1.935491 -0.906275     0.444714   \n",
       "2      1.600709         -0.166410 -0.098411  0.142943 -0.834815    -0.173297   \n",
       "3      1.821547         -0.168719 -0.498817 -0.144380 -0.421256    -0.867736   \n",
       "4      1.091659         -0.168719 -0.814591  1.858300 -1.117725    -1.481827   \n",
       "\n",
       "   time_signature                                     song_title  \\\n",
       "0        0.154713                                Blinding Lights   \n",
       "1        0.154713                                   Shape of You   \n",
       "2        0.154713                                   Dance Monkey   \n",
       "3        0.154713                              Someone You Loved   \n",
       "4        0.154713  Sunflower - Spider-Man: Into the Spider-Verse   \n",
       "\n",
       "          artist  cluster  \n",
       "0     The Weeknd        0  \n",
       "1     Ed Sheeran        1  \n",
       "2    Tones And I        1  \n",
       "3  Lewis Capaldi        2  \n",
       "4    Post Malone        1  "
      ]
     },
     "execution_count": 38,
     "metadata": {},
     "output_type": "execute_result"
    }
   ],
   "source": [
    "scaled_df.head()"
   ]
  },
  {
   "cell_type": "code",
   "execution_count": 41,
   "id": "e18d2763",
   "metadata": {},
   "outputs": [
    {
     "data": {
      "text/html": [
       "<div>\n",
       "<style scoped>\n",
       "    .dataframe tbody tr th:only-of-type {\n",
       "        vertical-align: middle;\n",
       "    }\n",
       "\n",
       "    .dataframe tbody tr th {\n",
       "        vertical-align: top;\n",
       "    }\n",
       "\n",
       "    .dataframe thead th {\n",
       "        text-align: right;\n",
       "    }\n",
       "</style>\n",
       "<table border=\"1\" class=\"dataframe\">\n",
       "  <thead>\n",
       "    <tr style=\"text-align: right;\">\n",
       "      <th></th>\n",
       "      <th>danceability</th>\n",
       "      <th>energy</th>\n",
       "      <th>key</th>\n",
       "      <th>loudness</th>\n",
       "      <th>mode</th>\n",
       "      <th>speechiness</th>\n",
       "      <th>acousticness</th>\n",
       "      <th>instrumentalness</th>\n",
       "      <th>liveness</th>\n",
       "      <th>valence</th>\n",
       "      <th>tempo</th>\n",
       "      <th>duration_ms</th>\n",
       "      <th>time_signature</th>\n",
       "      <th>song_title</th>\n",
       "      <th>artist</th>\n",
       "      <th>cluster</th>\n",
       "    </tr>\n",
       "  </thead>\n",
       "  <tbody>\n",
       "  </tbody>\n",
       "</table>\n",
       "</div>"
      ],
      "text/plain": [
       "Empty DataFrame\n",
       "Columns: [danceability, energy, key, loudness, mode, speechiness, acousticness, instrumentalness, liveness, valence, tempo, duration_ms, time_signature, song_title, artist, cluster]\n",
       "Index: []"
      ]
     },
     "execution_count": 41,
     "metadata": {},
     "output_type": "execute_result"
    }
   ],
   "source": [
    "#Example: A song that is not on top_songs playlist.\n",
    "\n",
    "scaled_df[scaled_df['song_title']=='Nothing Else Matters']"
   ]
  },
  {
   "cell_type": "code",
   "execution_count": 42,
   "id": "38b2d566",
   "metadata": {
    "scrolled": true
   },
   "outputs": [
    {
     "name": "stdout",
     "output_type": "stream",
     "text": [
      "Please insert a Song Name: Nothing Else Matters\n",
      "\n",
      " Your Recommended Song and Artist:\n"
     ]
    },
    {
     "data": {
      "text/plain": [
       "'Something Just Like This - The Chainsmokers'"
      ]
     },
     "execution_count": 42,
     "metadata": {},
     "output_type": "execute_result"
    }
   ],
   "source": [
    "song_recommender()"
   ]
  },
  {
   "cell_type": "code",
   "execution_count": 45,
   "id": "ac58573a",
   "metadata": {
    "scrolled": true
   },
   "outputs": [
    {
     "data": {
      "text/html": [
       "<div>\n",
       "<style scoped>\n",
       "    .dataframe tbody tr th:only-of-type {\n",
       "        vertical-align: middle;\n",
       "    }\n",
       "\n",
       "    .dataframe tbody tr th {\n",
       "        vertical-align: top;\n",
       "    }\n",
       "\n",
       "    .dataframe thead th {\n",
       "        text-align: right;\n",
       "    }\n",
       "</style>\n",
       "<table border=\"1\" class=\"dataframe\">\n",
       "  <thead>\n",
       "    <tr style=\"text-align: right;\">\n",
       "      <th></th>\n",
       "      <th>danceability</th>\n",
       "      <th>energy</th>\n",
       "      <th>key</th>\n",
       "      <th>loudness</th>\n",
       "      <th>mode</th>\n",
       "      <th>speechiness</th>\n",
       "      <th>acousticness</th>\n",
       "      <th>instrumentalness</th>\n",
       "      <th>liveness</th>\n",
       "      <th>valence</th>\n",
       "      <th>tempo</th>\n",
       "      <th>duration_ms</th>\n",
       "      <th>time_signature</th>\n",
       "      <th>song_title</th>\n",
       "      <th>artist</th>\n",
       "      <th>cluster</th>\n",
       "    </tr>\n",
       "  </thead>\n",
       "  <tbody>\n",
       "    <tr>\n",
       "      <th>30</th>\n",
       "      <td>-0.102235</td>\n",
       "      <td>0.121947</td>\n",
       "      <td>1.558667</td>\n",
       "      <td>-0.26626</td>\n",
       "      <td>-1.400549</td>\n",
       "      <td>-0.681568</td>\n",
       "      <td>-0.803053</td>\n",
       "      <td>-0.1684</td>\n",
       "      <td>0.038091</td>\n",
       "      <td>-0.14438</td>\n",
       "      <td>-0.660802</td>\n",
       "      <td>0.787058</td>\n",
       "      <td>0.154713</td>\n",
       "      <td>Something Just Like This</td>\n",
       "      <td>The Chainsmokers</td>\n",
       "      <td>1</td>\n",
       "    </tr>\n",
       "  </tbody>\n",
       "</table>\n",
       "</div>"
      ],
      "text/plain": [
       "    danceability    energy       key  loudness      mode  speechiness  \\\n",
       "30     -0.102235  0.121947  1.558667  -0.26626 -1.400549    -0.681568   \n",
       "\n",
       "    acousticness  instrumentalness  liveness  valence     tempo  duration_ms  \\\n",
       "30     -0.803053           -0.1684  0.038091 -0.14438 -0.660802     0.787058   \n",
       "\n",
       "    time_signature                song_title            artist  cluster  \n",
       "30        0.154713  Something Just Like This  The Chainsmokers        1  "
      ]
     },
     "execution_count": 45,
     "metadata": {},
     "output_type": "execute_result"
    }
   ],
   "source": [
    "scaled_df[scaled_df['song_title']=='Something Just Like This']    # Cluster 1"
   ]
  }
 ],
 "metadata": {
  "kernelspec": {
   "display_name": "Python 3 (ipykernel)",
   "language": "python",
   "name": "python3"
  },
  "language_info": {
   "codemirror_mode": {
    "name": "ipython",
    "version": 3
   },
   "file_extension": ".py",
   "mimetype": "text/x-python",
   "name": "python",
   "nbconvert_exporter": "python",
   "pygments_lexer": "ipython3",
   "version": "3.9.13"
  }
 },
 "nbformat": 4,
 "nbformat_minor": 5
}
